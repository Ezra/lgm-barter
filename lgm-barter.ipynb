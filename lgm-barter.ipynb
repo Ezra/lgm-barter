{
 "cells": [
  {
   "cell_type": "code",
   "execution_count": 1,
   "metadata": {},
   "outputs": [],
   "source": [
    "import ipywidgets as widgets\n",
    "from IPython.display import display"
   ]
  },
  {
   "cell_type": "code",
   "execution_count": 2,
   "metadata": {},
   "outputs": [],
   "source": [
    "buyer_sliders = {\n",
    "    key: widgets.IntSlider(description=key)\n",
    "    for key in (\n",
    "        'high', # $\n",
    "        'buyer_time_price', # $/min\n",
    "        'exp_low', # $\n",
    "        'exp_seller_time_price', # $/min\n",
    "        'buyer_exp_market', # $\n",
    "        'buy_time_fungibility', # min\n",
    "        )}"
   ]
  },
  {
   "cell_type": "code",
   "execution_count": 3,
   "metadata": {},
   "outputs": [],
   "source": [
    "seller_sliders = {\n",
    "    key: widgets.IntSlider(description=key)\n",
    "    for key in [\n",
    "        'low', # $\n",
    "        'seller_time_price', # $/min\n",
    "        'exp_high', # $\n",
    "        'exp_buyer_time_price', # $/min\n",
    "        'seller_exp_market', # $\n",
    "        'sell_time_fungibility', # min\n",
    "        ]}"
   ]
  },
  {
   "cell_type": "code",
   "execution_count": 22,
   "metadata": {},
   "outputs": [],
   "source": [
    "def mean(numbers):\n",
    "    return float(sum(numbers)) / max(len(numbers), 1)"
   ]
  },
  {
   "cell_type": "code",
   "execution_count": 37,
   "metadata": {},
   "outputs": [],
   "source": [
    "# https://stackoverflow.com/questions/32000934/python-print-a-variables-name-and-value\n",
    "import sys\n",
    "def debug(expression):\n",
    "    frame = sys._getframe(1)\n",
    "    print(expression, ':\\t', repr(eval(expression, frame.f_globals, frame.f_locals)))"
   ]
  },
  {
   "cell_type": "code",
   "execution_count": 56,
   "metadata": {},
   "outputs": [],
   "source": [
    "def calculate(high, buyer_time_price, exp_low, exp_seller_time_price, buyer_exp_market, buy_time_fungibility, low, seller_time_price, exp_high, exp_buyer_time_price, seller_exp_market, sell_time_fungibility):\n",
    "    TIME_CONSTANT = 1 # min\n",
    "    \n",
    "    buyer_null_util = max(0, high - buyer_exp_market - (buyer_time_price * buy_time_fungibility))\n",
    "    debug('buyer_null_util') # $\n",
    "    seller_null_util = max(low, seller_exp_market - low - (seller_time_price * sell_time_fungibility))\n",
    "    debug('seller_null_util') # $\n",
    "    seller_bid = [exp_high]\n",
    "    debug('seller_bid[0]') # $\n",
    "    buyer_bid = [exp_low]\n",
    "    debug('buyer_bid[0]') # $\n",
    "    if buyer_bid[0] > seller_bid[0]:\n",
    "        final_price = mean([buyer_bid[0], seller_bid[0]])\n",
    "        debug('final_price') # $\n",
    "        return\n",
    "    else:\n",
    "        gap_between_opening_prices = seller_bid[0] - buyer_bid[0]\n",
    "        debug('gap_between_opening_prices') # $\n",
    "    \n",
    "    buyer_acc_imm_util = high - seller_bid[0]\n",
    "    debug('buyer_acc_imm_util') # $\n",
    "    seller_acc_imm_util = buyer_bid[0] - low\n",
    "    debug('seller_acc_imm_util') # $\n",
    "    \n",
    "    # buyer\n",
    "    if (\n",
    "            buyer_time_price > gap_between_opening_prices  # BAD COMPARISON ($/min to $)\n",
    "            and buyer_acc_imm_util > buyer_null_util\n",
    "            ):\n",
    "        print(\"buyer accepts\")\n",
    "        buyer_accepts = True\n",
    "    else:\n",
    "        buyer_accepts = False\n",
    "    \n",
    "    # seller\n",
    "    if (\n",
    "            seller_time_price > gap_between_opening_prices  # BAD COMPARISON ($/min to $)\n",
    "            and seller_acc_imm_util > seller_null_util\n",
    "            ):\n",
    "        print(\"seller accepts\")\n",
    "        seller_accepts = True\n",
    "    else:\n",
    "        seller_accepts = False\n",
    "    \n",
    "    if buyer_accepts and not seller_accepts:\n",
    "        final_price = seller_bid[0]\n",
    "        debug('final_price') # $\n",
    "        return\n",
    "    elif seller_accepts and not buyer_accepts:\n",
    "        final_price = buyer_bid[0]\n",
    "        debug('final_price') # $\n",
    "        return\n",
    "    elif buyer_accepts and seller_accepts:\n",
    "        final_price = mean([buyer_bid[0], seller_bid[0]])\n",
    "        debug('final_price') # $\n",
    "        return\n",
    "    \n",
    "    # neither accepted\n",
    "    \n",
    "    for t in range(1, 8):\n",
    "        buyer_bid.append(buyer_bid[t-1] + (exp_seller_time_price * TIME_CONSTANT))\n",
    "        seller_bid.append(seller_bid[t-1] - (exp_buyer_time_price * TIME_CONSTANT))\n",
    "        debug('buyer_bid[{}]'.format(t))\n",
    "        debug('seller_bid[{}]'.format(t))\n",
    "        # lazy completion\n",
    "        if buyer_bid[t] > seller_bid[t]:\n",
    "            final_price = mean([buyer_bid[t], seller_bid[t]])\n",
    "            debug('final_price') # $\n",
    "            return"
   ]
  },
  {
   "cell_type": "code",
   "execution_count": 57,
   "metadata": {},
   "outputs": [
    {
     "data": {
      "application/vnd.jupyter.widget-view+json": {
       "model_id": "a8f42fa64e8644cf9d2de775bc73c82f",
       "version_major": 2,
       "version_minor": 0
      },
      "text/plain": [
       "VBox(children=(HBox(children=(VBox(children=(Label(value='buyer:'), IntSlider(value=60, description='high'), I…"
      ]
     },
     "metadata": {},
     "output_type": "display_data"
    }
   ],
   "source": [
    "buyer_box = widgets.VBox([widgets.Label('buyer:')] + list(buyer_sliders.values()))\n",
    "seller_box = widgets.VBox([widgets.Label('seller:')] + list(seller_sliders.values()))\n",
    "output_box = widgets.interactive_output(calculate, {k: v for k, v in dict(buyer_sliders, **seller_sliders).items()})\n",
    "\n",
    "widgets.VBox([widgets.HBox([buyer_box, seller_box]), output_box])"
   ]
  }
 ],
 "metadata": {
  "kernelspec": {
   "display_name": "Python 3",
   "language": "python",
   "name": "python3"
  },
  "language_info": {
   "codemirror_mode": {
    "name": "ipython",
    "version": 3
   },
   "file_extension": ".py",
   "mimetype": "text/x-python",
   "name": "python",
   "nbconvert_exporter": "python",
   "pygments_lexer": "ipython3",
   "version": "3.7.3"
  }
 },
 "nbformat": 4,
 "nbformat_minor": 2
}

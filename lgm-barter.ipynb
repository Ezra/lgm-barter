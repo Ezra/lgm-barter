{
 "cells": [
  {
   "cell_type": "code",
   "execution_count": 1,
   "metadata": {},
   "outputs": [],
   "source": [
    "import ipywidgets as widgets\n",
    "from IPython.display import display"
   ]
  },
  {
   "cell_type": "code",
   "execution_count": 2,
   "metadata": {},
   "outputs": [],
   "source": [
    "buyer_sliders = {\n",
    "    key: widgets.IntSlider(\n",
    "        description='{unit} {key}'.format(unit=unit, key=key),\n",
    "        value=default,\n",
    "        )\n",
    "    for unit, default, key in [\n",
    "        ('$', 90, 'high'),\n",
    "        ('$/min', 5, 'buyer_time_price'),\n",
    "        ('$', 10, 'exp_low'),\n",
    "        ('$/min', 5, 'exp_seller_time_price'),\n",
    "        ('$', 50, 'buyer_exp_market'),\n",
    "        ('min', 10, 'buy_time_fungibility'),\n",
    "        ]\n",
    "    }"
   ]
  },
  {
   "cell_type": "code",
   "execution_count": 3,
   "metadata": {},
   "outputs": [],
   "source": [
    "seller_sliders = {\n",
    "    key: widgets.IntSlider(\n",
    "        description='{unit} {key}'.format(unit=unit, key=key),\n",
    "        value=default,\n",
    "        )\n",
    "    for unit, default, key in [\n",
    "        ('$', 10, 'low'),\n",
    "        ('$/min', 5, 'seller_time_price'),\n",
    "        ('$', 90, 'exp_high'),\n",
    "        ('$/min', 5, 'exp_buyer_time_price'),\n",
    "        ('$', 50, 'seller_exp_market'),\n",
    "        ('min', 10, 'sell_time_fungibility'),\n",
    "        ]\n",
    "    }"
   ]
  },
  {
   "cell_type": "code",
   "execution_count": 4,
   "metadata": {},
   "outputs": [],
   "source": [
    "def mean(numbers):\n",
    "    return float(sum(numbers)) / max(len(numbers), 1)"
   ]
  },
  {
   "cell_type": "code",
   "execution_count": 5,
   "metadata": {},
   "outputs": [],
   "source": [
    "# https://stackoverflow.com/questions/32000934/python-print-a-variables-name-and-value\n",
    "import sys\n",
    "DEBUG = False\n",
    "def debug(expression):\n",
    "    if DEBUG:\n",
    "        frame = sys._getframe(1)\n",
    "        print(expression, ':\\t', repr(eval(expression, frame.f_globals, frame.f_locals)))"
   ]
  },
  {
   "cell_type": "code",
   "execution_count": 6,
   "metadata": {},
   "outputs": [],
   "source": [
    "def buyer_say(text):\n",
    "    print('\\tB: \"{}\"'.format(text))\n",
    "    \n",
    "def seller_say(text):\n",
    "    print('\\t\\tS: \"{}\"'.format(text))\n",
    "\n",
    "def narrate(text):\n",
    "    print('\\t{}'.format(text))"
   ]
  },
  {
   "cell_type": "code",
   "execution_count": 7,
   "metadata": {},
   "outputs": [],
   "source": [
    "def sold_at(prices): # list of $, or a single $\n",
    "    try:\n",
    "        final_price = mean(prices)\n",
    "    except TypeError: # a single value\n",
    "        final_price = prices\n",
    "    debug('final_price') # $\n",
    "    narrate('Sold at ${}.'.format(final_price))\n",
    "    \n",
    "def calculate(high, buyer_time_price, exp_low, exp_seller_time_price, buyer_exp_market, buy_time_fungibility, low, seller_time_price, exp_high, exp_buyer_time_price, seller_exp_market, sell_time_fungibility):\n",
    "    TIME_CONSTANT = 1 # min\n",
    "    \n",
    "    buyer_null_util = max(0, high - buyer_exp_market - (buyer_time_price * buy_time_fungibility))\n",
    "    debug('buyer_null_util') # $\n",
    "    seller_null_util = max(low, seller_exp_market - low - (seller_time_price * sell_time_fungibility))\n",
    "    debug('seller_null_util') # $\n",
    "    \n",
    "    # ladies and gentlemen here's the opening round\n",
    "    t = 0\n",
    "    \n",
    "    seller_bid = [exp_high]\n",
    "    buyer_bid = [exp_low]\n",
    "    debug('seller_bid[0]') # $\n",
    "    debug('buyer_bid[0]') # $\n",
    "    seller_say('Selling at ${}.'.format(seller_bid[0]))\n",
    "    buyer_say('Buying at ${}.'.format(buyer_bid[0]))\n",
    "    \n",
    "    if buyer_bid[t] >= seller_bid[t]: # CHANGE: allow equal\n",
    "        sold_at([buyer_bid[t], seller_bid[t]])\n",
    "        return\n",
    "    else:\n",
    "        gap_between_opening_prices = seller_bid[t] - buyer_bid[t]\n",
    "        debug('gap_between_opening_prices') # $\n",
    "        \n",
    "    # second round, let's see if anyone accepts\n",
    "    buyer_acc_imm_util = high - seller_bid[t]\n",
    "    seller_acc_imm_util = buyer_bid[t] - low\n",
    "    debug('buyer_acc_imm_util') # $\n",
    "    debug('seller_acc_imm_util') # $\n",
    "    \n",
    "    # check if the buyer accepts\n",
    "    if (\n",
    "            buyer_time_price > gap_between_opening_prices  # BAD COMPARISON ($/min to $)\n",
    "            and buyer_acc_imm_util > buyer_null_util\n",
    "            ):\n",
    "        buyer_say('I accept your offer!')\n",
    "        buyer_accepts = True\n",
    "    else:\n",
    "        buyer_accepts = False\n",
    "        buyer_bid.append(buyer_bid[t] + (exp_seller_time_price * TIME_CONSTANT))\n",
    "        debug('buyer_bid[{}]'.format(t+1))\n",
    "        buyer_say('Buying at ${}.'.format(buyer_bid[t+1]))\n",
    "        \n",
    "    \n",
    "    # check if the seller accepts\n",
    "    if (\n",
    "            (seller_time_price * TIME_CONSTANT) > gap_between_opening_prices # CHANGED: corrected by TIME_CONSTANT for units match\n",
    "            and seller_acc_imm_util > seller_null_util\n",
    "            ):\n",
    "        seller_say('I accept your offer!')\n",
    "        seller_accepts = True\n",
    "    else:\n",
    "        seller_accepts = False\n",
    "        seller_bid.append(seller_bid[t] - (exp_buyer_time_price * TIME_CONSTANT))\n",
    "        debug('seller_bid[{}]'.format(t+1))\n",
    "        seller_say('Selling at ${}.'.format(seller_bid[t+1]))\n",
    "    \n",
    "    if buyer_accepts and not seller_accepts:\n",
    "        sold_at(seller_bid[t])\n",
    "        return\n",
    "    elif seller_accepts and not buyer_accepts:\n",
    "        sold_at(buyer_bid[t])\n",
    "        return\n",
    "    elif buyer_accepts and seller_accepts:\n",
    "        sold_at([buyer_bid[t], seller_bid[t]])\n",
    "        return\n",
    "    \n",
    "    # neither accepted, let's do rounds 3+\n",
    "    #TODO short-circuit based on time preference\n",
    "    #TODO loop properly\n",
    "    while buyer_bid[t] < seller_bid[t]:\n",
    "        t += 1\n",
    "        buyer_bid.append(buyer_bid[t] + (exp_seller_time_price * TIME_CONSTANT))\n",
    "        debug('buyer_bid[{}]'.format(t+1))\n",
    "        buyer_say('Buying at ${}.'.format(buyer_bid[t+1]))\n",
    "        seller_bid.append(seller_bid[t] - (exp_buyer_time_price * TIME_CONSTANT))\n",
    "        debug('seller_bid[{}]'.format(t+1))\n",
    "        seller_say('Selling at ${}.'.format(seller_bid[t+1]))\n",
    "        \n",
    "        if t>10:\n",
    "            narrate('Market closed for the day.')\n",
    "            return\n",
    "        \n",
    "    sold_at([buyer_bid[t], seller_bid[t]])\n",
    "    return"
   ]
  },
  {
   "cell_type": "code",
   "execution_count": 8,
   "metadata": {},
   "outputs": [
    {
     "data": {
      "application/vnd.jupyter.widget-view+json": {
       "model_id": "6193c4d04af8411c9445ecbccc1c5e9c",
       "version_major": 2,
       "version_minor": 0
      },
      "text/plain": [
       "VBox(children=(HBox(children=(VBox(children=(Label(value='buyer:'), IntSlider(value=90, description='$ high'),…"
      ]
     },
     "metadata": {},
     "output_type": "display_data"
    }
   ],
   "source": [
    "buyer_box = widgets.VBox([widgets.Label('buyer:')] + list(buyer_sliders.values()))\n",
    "seller_box = widgets.VBox([widgets.Label('seller:')] + list(seller_sliders.values()))\n",
    "output_box = widgets.interactive_output(calculate, {k: v for k, v in dict(buyer_sliders, **seller_sliders).items()})\n",
    "\n",
    "# return a widget with our controls and output\n",
    "widgets.VBox([widgets.HBox([buyer_box, seller_box]), output_box])"
   ]
  }
 ],
 "metadata": {
  "kernelspec": {
   "display_name": "Python 3",
   "language": "python",
   "name": "python3"
  },
  "language_info": {
   "codemirror_mode": {
    "name": "ipython",
    "version": 3
   },
   "file_extension": ".py",
   "mimetype": "text/x-python",
   "name": "python",
   "nbconvert_exporter": "python",
   "pygments_lexer": "ipython3",
   "version": "3.7.3"
  }
 },
 "nbformat": 4,
 "nbformat_minor": 2
}
